{
 "cells": [
  {
   "cell_type": "code",
   "execution_count": 1,
   "metadata": {},
   "outputs": [],
   "source": [
    "class Node:\n",
    "  def __init__(self, data=None):\n",
    "    self.data = data\n",
    "    self.next = None\n",
    "\n",
    "\n",
    "class LinkedList:\n",
    "  def __init__(self):\n",
    "    self.head = None\n",
    "\n",
    "  def insert_at_beginning(self, data):\n",
    "    new_node = Node(data)\n",
    "    new_node.next = self.head\n",
    "    self.head = new_node\n",
    "\n",
    "  def insert_at_end(self, data):\n",
    "    new_node = Node(data)\n",
    "    if self.head is None:\n",
    "      self.head = new_node\n",
    "    else:\n",
    "      cur = self.head\n",
    "      while cur.next:\n",
    "        cur = cur.next\n",
    "      cur.next = new_node\n",
    "\n",
    "  def insert_after(self, prev_node: Node, data):\n",
    "    if prev_node is None:\n",
    "      print(\"Попереднього вузла не існує.\")\n",
    "      return\n",
    "    new_node = Node(data)\n",
    "    new_node.next = prev_node.next\n",
    "    prev_node.next = new_node\n",
    "\n",
    "  def delete_node(self, key: int):\n",
    "    cur = self.head\n",
    "    if cur and cur.data == key:\n",
    "      self.head = cur.next\n",
    "      cur = None\n",
    "      return\n",
    "    prev = None\n",
    "    while cur and cur.data != key:\n",
    "      prev = cur\n",
    "      cur = cur.next\n",
    "    if cur is None:\n",
    "      return\n",
    "    prev.next = cur.next\n",
    "    cur = None\n",
    "\n",
    "  def search_element(self, data: int) -> Node | None:\n",
    "    cur = self.head\n",
    "    while cur:\n",
    "      if cur.data == data:\n",
    "        return cur\n",
    "      cur = cur.next\n",
    "    return None\n",
    "\n",
    "  def print_list(self):\n",
    "    current = self.head\n",
    "    while current:\n",
    "      print(current.data)\n",
    "      current = current.next"
   ]
  },
  {
   "cell_type": "code",
   "execution_count": 2,
   "metadata": {},
   "outputs": [
    {
     "name": "stdout",
     "output_type": "stream",
     "text": [
      "Зв'язний список:\n",
      "15\n",
      "10\n",
      "5\n",
      "20\n",
      "25\n"
     ]
    }
   ],
   "source": [
    "llist = LinkedList()\n",
    "\n",
    "# Вставляємо вузли в початок\n",
    "llist.insert_at_beginning(5)\n",
    "llist.insert_at_beginning(10)\n",
    "llist.insert_at_beginning(15)\n",
    "\n",
    "# Вставляємо вузли в кінець\n",
    "llist.insert_at_end(20)\n",
    "llist.insert_at_end(25)\n",
    "\n",
    "# Друк зв'язного списку\n",
    "print(\"Зв'язний список:\")\n",
    "llist.print_list()"
   ]
  },
  {
   "cell_type": "code",
   "execution_count": 3,
   "metadata": {},
   "outputs": [],
   "source": [
    "def reverse_linked_list(llist: LinkedList):\n",
    "    prev = None\n",
    "    cur = llist.head\n",
    "    while cur:\n",
    "        next = cur.next\n",
    "        cur.next = prev\n",
    "        prev = cur\n",
    "        cur = next\n",
    "    llist.head = prev"
   ]
  },
  {
   "cell_type": "code",
   "execution_count": 4,
   "metadata": {},
   "outputs": [
    {
     "name": "stdout",
     "output_type": "stream",
     "text": [
      "\n",
      "Зв'язний список після реверсу:\n",
      "25\n",
      "20\n",
      "5\n",
      "10\n",
      "15\n"
     ]
    }
   ],
   "source": [
    "reverse_linked_list(llist)\n",
    "print(\"\\nЗв'язний список після реверсу:\")\n",
    "llist.print_list()"
   ]
  },
  {
   "cell_type": "code",
   "execution_count": 5,
   "metadata": {},
   "outputs": [],
   "source": [
    "def sort_linked_list(llist: LinkedList):\n",
    "    cur = llist.head\n",
    "    while cur:\n",
    "        next = cur.next\n",
    "        while next:\n",
    "            if cur.data > next.data:\n",
    "                cur.data, next.data = next.data, cur.data\n",
    "            next = next.next\n",
    "        cur = cur.next"
   ]
  },
  {
   "cell_type": "code",
   "execution_count": 6,
   "metadata": {},
   "outputs": [
    {
     "name": "stdout",
     "output_type": "stream",
     "text": [
      "\n",
      "Зв'язний список після сортування:\n",
      "5\n",
      "10\n",
      "15\n",
      "20\n",
      "25\n"
     ]
    }
   ],
   "source": [
    "sort_linked_list(llist)\n",
    "print(\"\\nЗв'язний список після сортування:\")\n",
    "llist.print_list()"
   ]
  },
  {
   "cell_type": "code",
   "execution_count": 7,
   "metadata": {},
   "outputs": [],
   "source": [
    "def merge_sorted_lists(list1: LinkedList, list2: LinkedList) -> LinkedList:\n",
    "    merged_list = LinkedList()\n",
    "    cur1 = list1.head\n",
    "    cur2 = list2.head\n",
    "\n",
    "    while cur1 and cur2:\n",
    "        if cur1.data <= cur2.data:\n",
    "            merged_list.insert_at_end(cur1.data)\n",
    "            cur1 = cur1.next\n",
    "        else:\n",
    "            merged_list.insert_at_end(cur2.data)\n",
    "            cur2 = cur2.next\n",
    "\n",
    "    while cur1:\n",
    "        merged_list.insert_at_end(cur1.data)\n",
    "        cur1 = cur1.next\n",
    "\n",
    "    while cur2:\n",
    "        merged_list.insert_at_end(cur2.data)\n",
    "        cur2 = cur2.next\n",
    "\n",
    "    return merged_list"
   ]
  },
  {
   "cell_type": "code",
   "execution_count": 8,
   "metadata": {},
   "outputs": [
    {
     "name": "stdout",
     "output_type": "stream",
     "text": [
      "\n",
      "Об'єднаний відсортований список:\n",
      "1\n",
      "2\n",
      "3\n",
      "5\n",
      "10\n",
      "15\n",
      "20\n",
      "25\n"
     ]
    }
   ],
   "source": [
    "llist2 = LinkedList()\n",
    "\n",
    "llist2.insert_at_beginning(3)\n",
    "llist2.insert_at_beginning(2)\n",
    "llist2.insert_at_beginning(1)\n",
    "\n",
    "sorted_list = merge_sorted_lists(llist, llist2)\n",
    "print(\"\\nОб'єднаний відсортований список:\")\n",
    "sorted_list.print_list()"
   ]
  },
  {
   "cell_type": "code",
   "execution_count": null,
   "metadata": {},
   "outputs": [],
   "source": []
  }
 ],
 "metadata": {
  "kernelspec": {
   "display_name": "Python 3",
   "language": "python",
   "name": "python3"
  },
  "language_info": {
   "codemirror_mode": {
    "name": "ipython",
    "version": 3
   },
   "file_extension": ".py",
   "mimetype": "text/x-python",
   "name": "python",
   "nbconvert_exporter": "python",
   "pygments_lexer": "ipython3",
   "version": "3.11.3"
  }
 },
 "nbformat": 4,
 "nbformat_minor": 2
}
