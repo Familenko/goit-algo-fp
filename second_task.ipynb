{
 "cells": [
  {
   "cell_type": "code",
   "execution_count": 1,
   "metadata": {},
   "outputs": [],
   "source": [
    "import turtle"
   ]
  },
  {
   "cell_type": "code",
   "execution_count": 2,
   "metadata": {},
   "outputs": [
    {
     "name": "stderr",
     "output_type": "stream",
     "text": [
      "2024-10-25 14:53:44.354 Python[40513:5822347] WARNING: Secure coding is not enabled for restorable state! Enable secure coding by implementing NSApplicationDelegate.applicationSupportsSecureRestorableState: and returning YES.\n"
     ]
    }
   ],
   "source": [
    "def draw_pifagor_tree(length, angle, level):\n",
    "    if level == 0:\n",
    "        return\n",
    "    turtle.forward(length)\n",
    "    turtle.left(angle)\n",
    "    draw_pifagor_tree(length * 0.7, angle, level - 1)\n",
    "    turtle.right(angle * 2)\n",
    "    draw_pifagor_tree(length * 0.7, angle, level - 1)\n",
    "    turtle.left(angle)\n",
    "    turtle.backward(length)\n",
    "\n",
    "def main():\n",
    "    recursion_level = int(input(\"Enter the recursion level: \"))\n",
    "    if recursion_level == 0:\n",
    "        return\n",
    "    turtle.speed(0)\n",
    "    turtle.penup()\n",
    "    turtle.goto(0, -100)\n",
    "    turtle.pendown()\n",
    "    draw_pifagor_tree(100, 45, recursion_level)\n",
    "    turtle.done()\n",
    "\n",
    "if __name__ == \"__main__\":\n",
    "    main()"
   ]
  },
  {
   "cell_type": "code",
   "execution_count": 3,
   "metadata": {},
   "outputs": [],
   "source": [
    "main()"
   ]
  }
 ],
 "metadata": {
  "kernelspec": {
   "display_name": "Python 3",
   "language": "python",
   "name": "python3"
  },
  "language_info": {
   "codemirror_mode": {
    "name": "ipython",
    "version": 3
   },
   "file_extension": ".py",
   "mimetype": "text/x-python",
   "name": "python",
   "nbconvert_exporter": "python",
   "pygments_lexer": "ipython3",
   "version": "3.11.3"
  }
 },
 "nbformat": 4,
 "nbformat_minor": 2
}
