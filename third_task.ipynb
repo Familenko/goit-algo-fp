{
 "cells": [
  {
   "cell_type": "code",
   "execution_count": 30,
   "metadata": {},
   "outputs": [],
   "source": [
    "import heapq\n",
    "\n",
    "def dijkstra(graph, start):\n",
    "    distances = {vertex: float('infinity') for vertex in graph}\n",
    "    print('distances',distances)\n",
    "    distances[start] = 0\n",
    "    priority_queue = []\n",
    "    priority_queue.append((0, start))\n",
    "    visited = set()\n",
    "\n",
    "    while priority_queue:\n",
    "        print('priority_queue',priority_queue)\n",
    "        current_distance, current_vertex = heapq.heappop(priority_queue)\n",
    "        print('current_distance',current_distance, 'current_vertex',current_vertex)\n",
    "        print()\n",
    "\n",
    "        if current_vertex in visited:\n",
    "            continue\n",
    "        else:\n",
    "            visited.add(current_vertex)\n",
    "\n",
    "        for neighbor, weight in graph[current_vertex].items():\n",
    "            print('neighbor',neighbor, 'weight',weight)\n",
    "            distance = current_distance + weight\n",
    "\n",
    "            if distance < distances[neighbor]:\n",
    "                distances[neighbor] = distance\n",
    "                print('neighbor',neighbor, 'distance',distance)\n",
    "                heapq.heappush(priority_queue, (distance, neighbor))\n",
    "        \n",
    "        print()\n",
    "\n",
    "    return distances"
   ]
  },
  {
   "cell_type": "code",
   "execution_count": 31,
   "metadata": {},
   "outputs": [
    {
     "name": "stdout",
     "output_type": "stream",
     "text": [
      "distances {'A': inf, 'B': inf, 'C': inf, 'D': inf, 'E': inf}\n",
      "priority_queue [(0, 'A')]\n",
      "current_distance 0 current_vertex A\n",
      "\n",
      "neighbor B weight 5\n",
      "neighbor B distance 5\n",
      "neighbor C weight 10\n",
      "neighbor C distance 10\n",
      "\n",
      "priority_queue [(5, 'B'), (10, 'C')]\n",
      "current_distance 5 current_vertex B\n",
      "\n",
      "neighbor A weight 5\n",
      "neighbor D weight 3\n",
      "neighbor D distance 8\n",
      "\n",
      "priority_queue [(8, 'D'), (10, 'C')]\n",
      "current_distance 8 current_vertex D\n",
      "\n",
      "neighbor B weight 3\n",
      "neighbor C weight 2\n",
      "neighbor E weight 4\n",
      "neighbor E distance 12\n",
      "\n",
      "priority_queue [(10, 'C'), (12, 'E')]\n",
      "current_distance 10 current_vertex C\n",
      "\n",
      "neighbor A weight 10\n",
      "neighbor D weight 2\n",
      "\n",
      "priority_queue [(12, 'E')]\n",
      "current_distance 12 current_vertex E\n",
      "\n",
      "neighbor D weight 4\n",
      "\n"
     ]
    },
    {
     "data": {
      "text/plain": [
       "{'A': 0, 'B': 5, 'C': 10, 'D': 8, 'E': 12}"
      ]
     },
     "execution_count": 31,
     "metadata": {},
     "output_type": "execute_result"
    }
   ],
   "source": [
    "graph = {\n",
    "    'A': {'B': 5, 'C': 10},\n",
    "    'B': {'A': 5, 'D': 3},\n",
    "    'C': {'A': 10, 'D': 2},\n",
    "    'D': {'B': 3, 'C': 2, 'E': 4},\n",
    "    'E': {'D': 4}\n",
    "}\n",
    "\n",
    "dijkstra(graph, 'A')"
   ]
  }
 ],
 "metadata": {
  "kernelspec": {
   "display_name": "Python 3",
   "language": "python",
   "name": "python3"
  },
  "language_info": {
   "codemirror_mode": {
    "name": "ipython",
    "version": 3
   },
   "file_extension": ".py",
   "mimetype": "text/x-python",
   "name": "python",
   "nbconvert_exporter": "python",
   "pygments_lexer": "ipython3",
   "version": "3.11.3"
  }
 },
 "nbformat": 4,
 "nbformat_minor": 2
}
